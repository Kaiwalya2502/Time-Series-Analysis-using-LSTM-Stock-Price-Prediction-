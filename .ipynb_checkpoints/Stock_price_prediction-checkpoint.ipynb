{
 "cells": [
  {
   "cell_type": "markdown",
   "metadata": {},
   "source": [
    "# Stock Price Prediction"
   ]
  },
  {
   "cell_type": "markdown",
   "metadata": {},
   "source": [
    "#### Quandl package will be used to fetch the stock data"
   ]
  },
  {
   "cell_type": "code",
   "execution_count": 1,
   "metadata": {},
   "outputs": [
    {
     "ename": "ModuleNotFoundError",
     "evalue": "No module named 'quandl'",
     "output_type": "error",
     "traceback": [
      "\u001b[1;31m---------------------------------------------------------------------------\u001b[0m",
      "\u001b[1;31mModuleNotFoundError\u001b[0m                       Traceback (most recent call last)",
      "\u001b[1;32m<ipython-input-1-2c2cda81a9ed>\u001b[0m in \u001b[0;36m<module>\u001b[1;34m\u001b[0m\n\u001b[0;32m      1\u001b[0m \u001b[1;31m# Import quandl package\u001b[0m\u001b[1;33m\u001b[0m\u001b[1;33m\u001b[0m\u001b[1;33m\u001b[0m\u001b[0m\n\u001b[1;32m----> 2\u001b[1;33m \u001b[1;32mimport\u001b[0m \u001b[0mquandl\u001b[0m\u001b[1;33m\u001b[0m\u001b[1;33m\u001b[0m\u001b[0m\n\u001b[0m\u001b[0;32m      3\u001b[0m \u001b[1;32mimport\u001b[0m \u001b[0mnumpy\u001b[0m \u001b[1;32mas\u001b[0m \u001b[0mnp\u001b[0m\u001b[1;33m\u001b[0m\u001b[1;33m\u001b[0m\u001b[0m\n\u001b[0;32m      4\u001b[0m \u001b[0mprint\u001b[0m\u001b[1;33m(\u001b[0m\u001b[1;34m\"Quandl package imported.\"\u001b[0m\u001b[1;33m)\u001b[0m\u001b[1;33m\u001b[0m\u001b[1;33m\u001b[0m\u001b[0m\n",
      "\u001b[1;31mModuleNotFoundError\u001b[0m: No module named 'quandl'"
     ]
    }
   ],
   "source": [
    "# Import quandl package\n",
    "import quandl\n",
    "import numpy as np\n",
    "print(\"Quandl package imported.\")"
   ]
  },
  {
   "cell_type": "markdown",
   "metadata": {},
   "source": [
    "<!-- # ##### api key for quandl\n",
    "# quandl.ApiConfig.api_key = \"Gjm_rdSpznk5zDwN89TH\" -->"
   ]
  },
  {
   "cell_type": "code",
   "execution_count": 4,
   "metadata": {},
   "outputs": [],
   "source": [
    "#Downloading financial data from Google stocks\n",
    "data = quandl.get_table('WIKI/PRICES',\n",
    "                        ticker='IBM', \n",
    "                        qopts={'columns':['date','close']},\n",
    "                        paginate=True)"
   ]
  },
  {
   "cell_type": "code",
   "execution_count": 5,
   "metadata": {},
   "outputs": [
    {
     "data": {
      "text/html": [
       "<div>\n",
       "<style scoped>\n",
       "    .dataframe tbody tr th:only-of-type {\n",
       "        vertical-align: middle;\n",
       "    }\n",
       "\n",
       "    .dataframe tbody tr th {\n",
       "        vertical-align: top;\n",
       "    }\n",
       "\n",
       "    .dataframe thead th {\n",
       "        text-align: right;\n",
       "    }\n",
       "</style>\n",
       "<table border=\"1\" class=\"dataframe\">\n",
       "  <thead>\n",
       "    <tr style=\"text-align: right;\">\n",
       "      <th></th>\n",
       "      <th>date</th>\n",
       "      <th>close</th>\n",
       "    </tr>\n",
       "  </thead>\n",
       "  <tbody>\n",
       "    <tr>\n",
       "      <th>0</th>\n",
       "      <td>2004-08-19</td>\n",
       "      <td>100.335</td>\n",
       "    </tr>\n",
       "    <tr>\n",
       "      <th>1</th>\n",
       "      <td>2004-08-20</td>\n",
       "      <td>108.310</td>\n",
       "    </tr>\n",
       "    <tr>\n",
       "      <th>2</th>\n",
       "      <td>2004-08-23</td>\n",
       "      <td>109.400</td>\n",
       "    </tr>\n",
       "    <tr>\n",
       "      <th>3</th>\n",
       "      <td>2004-08-24</td>\n",
       "      <td>104.870</td>\n",
       "    </tr>\n",
       "    <tr>\n",
       "      <th>4</th>\n",
       "      <td>2004-08-25</td>\n",
       "      <td>106.000</td>\n",
       "    </tr>\n",
       "  </tbody>\n",
       "</table>\n",
       "</div>"
      ],
      "text/plain": [
       "        date    close\n",
       "0 2004-08-19  100.335\n",
       "1 2004-08-20  108.310\n",
       "2 2004-08-23  109.400\n",
       "3 2004-08-24  104.870\n",
       "4 2004-08-25  106.000"
      ]
     },
     "execution_count": 5,
     "metadata": {},
     "output_type": "execute_result"
    }
   ],
   "source": [
    "# Reset the pandas dataframe index\n",
    "data = data.sort_values(by='date',ascending=True).reset_index(drop=True)\n",
    "\n",
    "# Show the last five rows of the pandas dataframe\n",
    "data.head()"
   ]
  },
  {
   "cell_type": "markdown",
   "metadata": {},
   "source": [
    "## Data Visualisation and Exploration"
   ]
  },
  {
   "cell_type": "code",
   "execution_count": 6,
   "metadata": {},
   "outputs": [
    {
     "data": {
      "image/png": "[encoded data removed]",
      "text/plain": [
       "<Figure size 432x288 with 1 Axes>"
      ]
     },
     "metadata": {
      "needs_background": "light"
     },
     "output_type": "display_data"
    }
   ],
   "source": [
    "import matplotlib.pyplot as plt\n",
    "plt.figure()\n",
    "plt.plot(data[\"close\"])\n",
    "plt.title('IBM stock price history')\n",
    "plt.ylabel('Price (USD)')\n",
    "plt.xlabel('Days')\n",
    "plt.legend(['close'], loc='upper left')\n",
    "plt.show()"
   ]
  },
  {
   "cell_type": "code",
   "execution_count": 7,
   "metadata": {},
   "outputs": [
    {
     "data": {
      "text/plain": [
       "date     0\n",
       "close    0\n",
       "dtype: int64"
      ]
     },
     "execution_count": 7,
     "metadata": {},
     "output_type": "execute_result"
    }
   ],
   "source": [
    "data.isna().sum()"
   ]
  },
  {
   "cell_type": "markdown",
   "metadata": {},
   "source": [
    "###### defining the batch size and number of epochs"
   ]
  },
  {
   "cell_type": "code",
   "execution_count": 8,
   "metadata": {},
   "outputs": [],
   "source": [
    "batch_size = 64\n",
    "epochs = 60\n",
    "timesteps = 30"
   ]
  },
  {
   "cell_type": "markdown",
   "metadata": {},
   "source": [
    "### Train Test Split"
   ]
  },
  {
   "cell_type": "code",
   "execution_count": 9,
   "metadata": {},
   "outputs": [],
   "source": [
    "def get_train_length(dataset, batch_size, test_percent):\n",
    "    length = len(dataset)\n",
    "    length *= 1 - test_percent\n",
    "    train_length_values = []\n",
    "    for x in range(int(length) - 100,int(length)): \n",
    "        modulo=x%batch_size\n",
    "        if (modulo == 0):\n",
    "            train_length_values.append(x)\n",
    "            print(x)\n",
    "    return (max(train_length_values))"
   ]
  },
  {
   "cell_type": "code",
   "execution_count": 10,
   "metadata": {},
   "outputs": [
    {
     "name": "stdout",
     "output_type": "stream",
     "text": [
      "3008\n",
      "3072\n",
      "3072\n"
     ]
    }
   ],
   "source": [
    "length = get_train_length(data, batch_size, 0.1)\n",
    "print(length)"
   ]
  },
  {
   "cell_type": "code",
   "execution_count": 11,
   "metadata": {},
   "outputs": [
    {
     "data": {
      "text/plain": [
       "(3132, 1)"
      ]
     },
     "execution_count": 11,
     "metadata": {},
     "output_type": "execute_result"
    }
   ],
   "source": [
    "upper_train = length + timesteps*2\n",
    "data_train = data[0:upper_train]\n",
    "training_set = data_train.iloc[:,1:2].values\n",
    "training_set.shape"
   ]
  },
  {
   "cell_type": "code",
   "execution_count": 12,
   "metadata": {},
   "outputs": [
    {
     "data": {
      "text/plain": [
       "(3132, 1)"
      ]
     },
     "execution_count": 12,
     "metadata": {},
     "output_type": "execute_result"
    }
   ],
   "source": [
    "from sklearn.preprocessing import MinMaxScaler\n",
    "sc = MinMaxScaler(feature_range = (0, 1))\n",
    "training_set_scaled = sc.fit_transform(np.float64(training_set))\n",
    "training_set_scaled.shape"
   ]
  },
  {
   "cell_type": "code",
   "execution_count": 13,
   "metadata": {},
   "outputs": [
    {
     "name": "stdout",
     "output_type": "stream",
     "text": [
      "3102\n"
     ]
    }
   ],
   "source": [
    "X_train = []\n",
    "y_train = []\n",
    "\n",
    "# Creating a data structure with n timesteps\n",
    "\n",
    "print(length + timesteps)\n",
    "for i in range(timesteps, length + timesteps): \n",
    "    X_train.append(training_set_scaled[i-timesteps:i,0])\n",
    "    y_train.append(training_set_scaled[i:i+timesteps,0])"
   ]
  },
  {
   "cell_type": "code",
   "execution_count": 14,
   "metadata": {},
   "outputs": [
    {
     "name": "stdout",
     "output_type": "stream",
     "text": [
      "(3072, 30, 1)\n",
      "(3072, 30, 1)\n"
     ]
    }
   ],
   "source": [
    "X_train, y_train = np.array(X_train), np.array(y_train)\n",
    "X_train = np.reshape(X_train, (X_train.shape[0], X_train.shape[1], 1))\n",
    "y_train = np.reshape(y_train, (y_train.shape[0], y_train.shape[1], 1))\n",
    "print(X_train.shape)\n",
    "print(y_train.shape)"
   ]
  },
  {
   "cell_type": "markdown",
   "metadata": {},
   "source": [
    "# Importing the Keras libraries and packages"
   ]
  },
  {
   "cell_type": "code",
   "execution_count": 15,
   "metadata": {},
   "outputs": [
    {
     "name": "stderr",
     "output_type": "stream",
     "text": [
      "Using TensorFlow backend.\n"
     ]
    }
   ],
   "source": [
    "from keras.layers import Dense ,Dropout\n",
    "from keras.layers import Input, LSTM\n",
    "from keras.models import Model"
   ]
  },
  {
   "cell_type": "code",
   "execution_count": 16,
   "metadata": {},
   "outputs": [
    {
     "name": "stdout",
     "output_type": "stream",
     "text": [
      "Model: \"model_1\"\n",
      "_________________________________________________________________\n",
      "Layer (type)                 Output Shape              Param #   \n",
      "=================================================================\n",
      "input_1 (InputLayer)         (64, 30, 1)               0         \n",
      "_________________________________________________________________\n",
      "lstm_1 (LSTM)                (64, 30, 10)              480       \n",
      "_________________________________________________________________\n",
      "dropout_1 (Dropout)          (64, 30, 10)              0         \n",
      "_________________________________________________________________\n",
      "lstm_2 (LSTM)                (64, 30, 10)              840       \n",
      "_________________________________________________________________\n",
      "dense_1 (Dense)              (64, 30, 1)               11        \n",
      "=================================================================\n",
      "Total params: 1,331\n",
      "Trainable params: 1,331\n",
      "Non-trainable params: 0\n",
      "_________________________________________________________________\n"
     ]
    }
   ],
   "source": [
    "# Using Functional API\n",
    "\n",
    "inputs_1_mae = Input(batch_shape=(batch_size,timesteps,1))\n",
    "#each layer is the input of the next layer\n",
    "lstm_1_mae = LSTM(10, stateful=True, return_sequences=True)(inputs_1_mae)\n",
    "dropout_layer = Dropout(0.3)(lstm_1_mae)\n",
    "lstm_2_mae = LSTM(10, stateful=True, return_sequences=True)(dropout_layer)\n",
    "\n",
    "output_1_mae = Dense(units = 1)(lstm_2_mae)\n",
    "\n",
    "regressor_mae = Model(inputs=inputs_1_mae, outputs = output_1_mae)\n",
    "\n",
    "#adam is fast starting off and then gets slower and more precise\n",
    "#mae -> mean absolute error loss function\n",
    "regressor_mae.compile(optimizer='adam', loss = 'mse')\n",
    "regressor_mae.summary()"
   ]
  },
  {
   "cell_type": "markdown",
   "metadata": {},
   "source": [
    "# Fit the model"
   ]
  },
  {
   "cell_type": "code",
   "execution_count": 17,
   "metadata": {},
   "outputs": [
    {
     "name": "stdout",
     "output_type": "stream",
     "text": [
      "Epoch: 0\n",
      "Epoch 1/1\n",
      "3072/3072 [==============================] - 3s 985us/step - loss: 0.0413\n",
      "Epoch: 1\n",
      "Epoch 1/1\n",
      "3072/3072 [==============================] - 2s 681us/step - loss: 0.0195\n",
      "Epoch: 2\n",
      "Epoch 1/1\n",
      "3072/3072 [==============================] - 2s 600us/step - loss: 0.0201\n",
      "Epoch: 3\n",
      "Epoch 1/1\n",
      "3072/3072 [==============================] - 2s 626us/step - loss: 0.0163\n",
      "Epoch: 4\n",
      "Epoch 1/1\n",
      "3072/3072 [==============================] - 2s 613us/step - loss: 0.0131\n",
      "Epoch: 5\n",
      "Epoch 1/1\n",
      "3072/3072 [==============================] - 2s 689us/step - loss: 0.0108 1s - loss - ETA: 1s\n",
      "Epoch: 6\n",
      "Epoch 1/1\n",
      "3072/3072 [==============================] - 2s 680us/step - loss: 0.0096\n",
      "Epoch: 7\n",
      "Epoch 1/1\n",
      "3072/3072 [==============================] - 2s 660us/step - loss: 0.0090\n",
      "Epoch: 8\n",
      "Epoch 1/1\n",
      "3072/3072 [==============================] - 2s 756us/step - loss: 0.0084\n",
      "Epoch: 9\n",
      "Epoch 1/1\n",
      "3072/3072 [==============================] - 2s 662us/step - loss: 0.0084\n",
      "Epoch: 10\n",
      "Epoch 1/1\n",
      "3072/3072 [==============================] - 2s 633us/step - loss: 0.0082\n",
      "Epoch: 11\n",
      "Epoch 1/1\n",
      "3072/3072 [==============================] - 2s 622us/step - loss: 0.0081 0s - loss\n",
      "Epoch: 12\n",
      "Epoch 1/1\n",
      "3072/3072 [==============================] - 2s 636us/step - loss: 0.0081\n",
      "Epoch: 13\n",
      "Epoch 1/1\n",
      "3072/3072 [==============================] - 2s 635us/step - loss: 0.0080\n",
      "Epoch: 14\n",
      "Epoch 1/1\n",
      "3072/3072 [==============================] - 2s 631us/step - loss: 0.0080\n",
      "Epoch: 15\n",
      "Epoch 1/1\n",
      "3072/3072 [==============================] - 2s 631us/step - loss: 0.0079\n",
      "Epoch: 16\n",
      "Epoch 1/1\n",
      "3072/3072 [==============================] - 2s 638us/step - loss: 0.0079\n",
      "Epoch: 17\n",
      "Epoch 1/1\n",
      "3072/3072 [==============================] - 2s 699us/step - loss: 0.0079\n",
      "Epoch: 18\n",
      "Epoch 1/1\n",
      "3072/3072 [==============================] - 2s 652us/step - loss: 0.0077\n",
      "Epoch: 19\n",
      "Epoch 1/1\n",
      "3072/3072 [==============================] - 2s 616us/step - loss: 0.0078\n",
      "Epoch: 20\n",
      "Epoch 1/1\n",
      "3072/3072 [==============================] - 2s 681us/step - loss: 0.0078\n",
      "Epoch: 21\n",
      "Epoch 1/1\n",
      "3072/3072 [==============================] - 2s 639us/step - loss: 0.0077\n",
      "Epoch: 22\n",
      "Epoch 1/1\n",
      "3072/3072 [==============================] - 2s 621us/step - loss: 0.0077\n",
      "Epoch: 23\n",
      "Epoch 1/1\n",
      "3072/3072 [==============================] - 2s 739us/step - loss: 0.0078\n",
      "Epoch: 24\n",
      "Epoch 1/1\n",
      "3072/3072 [==============================] - 2s 681us/step - loss: 0.0076\n",
      "Epoch: 25\n",
      "Epoch 1/1\n",
      "3072/3072 [==============================] - 2s 663us/step - loss: 0.0076\n",
      "Epoch: 26\n",
      "Epoch 1/1\n",
      "3072/3072 [==============================] - 2s 719us/step - loss: 0.0075\n",
      "Epoch: 27\n",
      "Epoch 1/1\n",
      "3072/3072 [==============================] - 2s 632us/step - loss: 0.0076\n",
      "Epoch: 28\n",
      "Epoch 1/1\n",
      "3072/3072 [==============================] - 2s 642us/step - loss: 0.0074\n",
      "Epoch: 29\n",
      "Epoch 1/1\n",
      "3072/3072 [==============================] - 2s 756us/step - loss: 0.0074\n",
      "Epoch: 30\n",
      "Epoch 1/1\n",
      "3072/3072 [==============================] - 2s 635us/step - loss: 0.0075\n",
      "Epoch: 31\n",
      "Epoch 1/1\n",
      "3072/3072 [==============================] - 2s 643us/step - loss: 0.0075\n",
      "Epoch: 32\n",
      "Epoch 1/1\n",
      "3072/3072 [==============================] - 2s 663us/step - loss: 0.0074\n",
      "Epoch: 33\n",
      "Epoch 1/1\n",
      "3072/3072 [==============================] - 2s 625us/step - loss: 0.0074\n",
      "Epoch: 34\n",
      "Epoch 1/1\n",
      "3072/3072 [==============================] - 2s 644us/step - loss: 0.0074\n",
      "Epoch: 35\n",
      "Epoch 1/1\n",
      "3072/3072 [==============================] - 2s 642us/step - loss: 0.0072\n",
      "Epoch: 36\n",
      "Epoch 1/1\n",
      "3072/3072 [==============================] - 2s 624us/step - loss: 0.0073\n",
      "Epoch: 37\n",
      "Epoch 1/1\n",
      "3072/3072 [==============================] - 2s 622us/step - loss: 0.0073\n",
      "Epoch: 38\n",
      "Epoch 1/1\n",
      "3072/3072 [==============================] - 2s 640us/step - loss: 0.0073\n",
      "Epoch: 39\n",
      "Epoch 1/1\n",
      "3072/3072 [==============================] - 2s 627us/step - loss: 0.0072\n",
      "Epoch: 40\n",
      "Epoch 1/1\n",
      "3072/3072 [==============================] - 2s 623us/step - loss: 0.0073\n",
      "Epoch: 41\n",
      "Epoch 1/1\n",
      "3072/3072 [==============================] - 2s 638us/step - loss: 0.0073\n",
      "Epoch: 42\n",
      "Epoch 1/1\n",
      "3072/3072 [==============================] - 2s 647us/step - loss: 0.0072\n",
      "Epoch: 43\n",
      "Epoch 1/1\n",
      "3072/3072 [==============================] - 2s 632us/step - loss: 0.0073\n",
      "Epoch: 44\n",
      "Epoch 1/1\n",
      "3072/3072 [==============================] - 2s 646us/step - loss: 0.0072\n",
      "Epoch: 45\n",
      "Epoch 1/1\n",
      "3072/3072 [==============================] - 2s 641us/step - loss: 0.0071\n",
      "Epoch: 46\n",
      "Epoch 1/1\n",
      "3072/3072 [==============================] - 2s 623us/step - loss: 0.0071\n",
      "Epoch: 47\n",
      "Epoch 1/1\n",
      "3072/3072 [==============================] - 2s 679us/step - loss: 0.0071\n",
      "Epoch: 48\n",
      "Epoch 1/1\n",
      "3072/3072 [==============================] - 2s 627us/step - loss: 0.0070\n",
      "Epoch: 49\n",
      "Epoch 1/1\n",
      "3072/3072 [==============================] - 2s 610us/step - loss: 0.0071\n",
      "Epoch: 50\n",
      "Epoch 1/1\n",
      "3072/3072 [==============================] - 2s 616us/step - loss: 0.0071\n",
      "Epoch: 51\n",
      "Epoch 1/1\n",
      "3072/3072 [==============================] - 2s 630us/step - loss: 0.0070\n",
      "Epoch: 52\n",
      "Epoch 1/1\n",
      "3072/3072 [==============================] - 2s 606us/step - loss: 0.0070\n",
      "Epoch: 53\n",
      "Epoch 1/1\n",
      "3072/3072 [==============================] - 2s 619us/step - loss: 0.0070\n",
      "Epoch: 54\n",
      "Epoch 1/1\n",
      "3072/3072 [==============================] - 2s 616us/step - loss: 0.0070\n",
      "Epoch: 55\n",
      "Epoch 1/1\n",
      "3072/3072 [==============================] - 2s 617us/step - loss: 0.0070\n",
      "Epoch: 56\n",
      "Epoch 1/1\n",
      "3072/3072 [==============================] - 2s 630us/step - loss: 0.0069\n",
      "Epoch: 57\n",
      "Epoch 1/1\n",
      "3072/3072 [==============================] - 2s 625us/step - loss: 0.0068\n",
      "Epoch: 58\n",
      "Epoch 1/1\n",
      "3072/3072 [==============================] - 2s 609us/step - loss: 0.0069\n",
      "Epoch: 59\n",
      "Epoch 1/1\n",
      "3072/3072 [==============================] - 2s 599us/step - loss: 0.0068\n"
     ]
    }
   ],
   "source": [
    "\n",
    "for i in range(epochs):\n",
    "    print('Epoch:',i)\n",
    "    regressor_mae.fit(X_train, y_train, shuffle=False, epochs = 1, batch_size = batch_size)\n",
    "    \n",
    "    regressor_mae.reset_states()"
   ]
  },
  {
   "cell_type": "code",
   "execution_count": 18,
   "metadata": {},
   "outputs": [],
   "source": [
    "def get_test_length(dataset, batch_size):\n",
    "    \n",
    "    test_length_values = []\n",
    "    for x in range(len(dataset) - 200, len(dataset) - timesteps*2): \n",
    "        modulo=(x-upper_train)%batch_size\n",
    "        if (modulo == 0):\n",
    "            test_length_values.append(x)\n",
    "            print(x)\n",
    "    return (max(test_length_values))"
   ]
  },
  {
   "cell_type": "code",
   "execution_count": 19,
   "metadata": {},
   "outputs": [
    {
     "name": "stdout",
     "output_type": "stream",
     "text": [
      "3260\n",
      "3324\n",
      "3324\n",
      "192\n"
     ]
    }
   ],
   "source": [
    "test_length = get_test_length(data, batch_size)\n",
    "print(test_length)\n",
    "upper_test = test_length + timesteps*2\n",
    "testset_length = test_length - upper_train\n",
    "print(testset_length)"
   ]
  },
  {
   "cell_type": "markdown",
   "metadata": {},
   "source": [
    "# construct test set"
   ]
  },
  {
   "cell_type": "code",
   "execution_count": 20,
   "metadata": {},
   "outputs": [],
   "source": [
    "#subsetting\n",
    "df_data_1_test = data[upper_train:upper_test] \n",
    "test_set = df_data_1_test.iloc[:,1:2].values\n",
    "\n",
    "#scaling\n",
    "scaled_real_bcg_values_test = sc.fit_transform(np.float64(test_set))\n",
    "\n",
    "X_test = []\n",
    "for i in range(timesteps, testset_length + timesteps):\n",
    "    X_test.append(scaled_real_bcg_values_test[i-timesteps:i, 0])\n",
    "X_test = np.array(X_test)\n",
    "\n",
    "\n",
    "#reshaping\n",
    "X_test = np.reshape(X_test, (X_test.shape[0], X_test.shape[1], 1))"
   ]
  },
  {
   "cell_type": "code",
   "execution_count": 21,
   "metadata": {},
   "outputs": [
    {
     "data": {
      "text/plain": [
       "(192, 30, 1)"
      ]
     },
     "execution_count": 21,
     "metadata": {},
     "output_type": "execute_result"
    }
   ],
   "source": [
    "X_test.shape"
   ]
  },
  {
   "cell_type": "code",
   "execution_count": 22,
   "metadata": {},
   "outputs": [
    {
     "name": "stdout",
     "output_type": "stream",
     "text": [
      "(192, 30, 1)\n",
      "(192, 30)\n",
      "(162, 1)\n"
     ]
    }
   ],
   "source": [
    "predicted_bcg_values_test_mae = regressor_mae.predict(X_test, batch_size=batch_size)\n",
    "regressor_mae.reset_states()\n",
    "\n",
    "print(predicted_bcg_values_test_mae.shape)\n",
    "\n",
    "#reshaping\n",
    "predicted_bcg_values_test_mae = np.reshape(predicted_bcg_values_test_mae, \n",
    "                                       (predicted_bcg_values_test_mae.shape[0], \n",
    "                                        predicted_bcg_values_test_mae.shape[1]))\n",
    "\n",
    "print(predicted_bcg_values_test_mae.shape)\n",
    "#inverse transform\n",
    "predicted_bcg_values_test_mae = sc.inverse_transform(predicted_bcg_values_test_mae)\n",
    "\n",
    "\n",
    "#creating y_test data\n",
    "y_test = []\n",
    "for j in range(0, testset_length - timesteps):\n",
    "    y_test = np.append(y_test, predicted_bcg_values_test_mae[j, timesteps-1])\n",
    "\n",
    "# reshaping\n",
    "y_test = np.reshape(y_test, (y_test.shape[0], 1))\n",
    "\n",
    "print(y_test.shape)"
   ]
  },
  {
   "cell_type": "markdown",
   "metadata": {},
   "source": [
    "# Visualising the results"
   ]
  },
  {
   "cell_type": "code",
   "execution_count": 23,
   "metadata": {
    "scrolled": false
   },
   "outputs": [
    {
     "data": {
      "image/png": "[encoded data removed]",
      "text/plain": [
       "<Figure size 432x288 with 1 Axes>"
      ]
     },
     "metadata": {
      "needs_background": "light"
     },
     "output_type": "display_data"
    }
   ],
   "source": [
    "plt.plot(test_set[timesteps:len(y_test)+30].astype(float), color = 'red', label = 'Real IBM Stock Prices')\n",
    "plt.plot(y_test.astype(float), color = 'blue', label = 'Predicted IBM Stock Prices')\n",
    "plt.title('IBM Stock Price Prediction - MAE')\n",
    "plt.xlabel('Time')\n",
    "plt.ylabel('IBM Stock Prices')\n",
    "plt.legend()\n",
    "plt.show()"
   ]
  }
 ],
 "metadata": {
  "kernelspec": {
   "display_name": "Python 3",
   "language": "python",
   "name": "python3"
  },
  "language_info": {
   "codemirror_mode": {
    "name": "ipython",
    "version": 3
   },
   "file_extension": ".py",
   "mimetype": "text/x-python",
   "name": "python",
   "nbconvert_exporter": "python",
   "pygments_lexer": "ipython3",
   "version": "3.8.2"
  }
 },
 "nbformat": 4,
 "nbformat_minor": 4
}
