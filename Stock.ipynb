{
  "nbformat": 4,
  "nbformat_minor": 0,
  "metadata": {
    "colab": {
      "name": "Stock.ipynb",
      "provenance": [],
      "collapsed_sections": []
    },
    "kernelspec": {
      "name": "python3",
      "display_name": "Python 3"
    }
  },
  "cells": [
    {
      "cell_type": "code",
      "metadata": {
        "id": "ntxlJSyJmAeg",
        "outputId": "852c88bb-9a3d-4671-92c6-15497af87915",
        "colab": {
          "base_uri": "https://localhost:8080/",
          "height": 323
        }
      },
      "source": [
        "!pip install quandl\n",
        "# Import quandl package\n",
        "import quandl\n",
        "import numpy as np\n",
        "print(\"Quandl package imported.\")"
      ],
      "execution_count": null,
      "outputs": [
        {
          "output_type": "stream",
          "text": [
            "Collecting quandl\n",
            "  Downloading https://files.pythonhosted.org/packages/1b/29/185269dbd2e2698c8098b35c52ce73a2c52cf76163e709f9f7789d03ebbb/Quandl-3.5.2-py2.py3-none-any.whl\n",
            "Requirement already satisfied: python-dateutil in /usr/local/lib/python3.6/dist-packages (from quandl) (2.8.1)\n",
            "Requirement already satisfied: pandas>=0.14 in /usr/local/lib/python3.6/dist-packages (from quandl) (1.0.5)\n",
            "Requirement already satisfied: six in /usr/local/lib/python3.6/dist-packages (from quandl) (1.15.0)\n",
            "Requirement already satisfied: requests>=2.7.0 in /usr/local/lib/python3.6/dist-packages (from quandl) (2.23.0)\n",
            "Requirement already satisfied: numpy>=1.8 in /usr/local/lib/python3.6/dist-packages (from quandl) (1.18.5)\n",
            "Requirement already satisfied: more-itertools in /usr/local/lib/python3.6/dist-packages (from quandl) (8.4.0)\n",
            "Collecting inflection>=0.3.1\n",
            "  Downloading https://files.pythonhosted.org/packages/59/91/aa6bde563e0085a02a435aa99b49ef75b0a4b062635e606dab23ce18d720/inflection-0.5.1-py2.py3-none-any.whl\n",
            "Requirement already satisfied: pytz>=2017.2 in /usr/local/lib/python3.6/dist-packages (from pandas>=0.14->quandl) (2018.9)\n",
            "Requirement already satisfied: chardet<4,>=3.0.2 in /usr/local/lib/python3.6/dist-packages (from requests>=2.7.0->quandl) (3.0.4)\n",
            "Requirement already satisfied: urllib3!=1.25.0,!=1.25.1,<1.26,>=1.21.1 in /usr/local/lib/python3.6/dist-packages (from requests>=2.7.0->quandl) (1.24.3)\n",
            "Requirement already satisfied: idna<3,>=2.5 in /usr/local/lib/python3.6/dist-packages (from requests>=2.7.0->quandl) (2.10)\n",
            "Requirement already satisfied: certifi>=2017.4.17 in /usr/local/lib/python3.6/dist-packages (from requests>=2.7.0->quandl) (2020.6.20)\n",
            "Installing collected packages: inflection, quandl\n",
            "Successfully installed inflection-0.5.1 quandl-3.5.2\n",
            "Quandl package imported.\n"
          ],
          "name": "stdout"
        }
      ]
    },
    {
      "cell_type": "code",
      "metadata": {
        "id": "wEhtY9TVmkXC"
      },
      "source": [
        "quandl.ApiConfig.api_key = \"Gjm_rdSpznk5zDwN89TH\""
      ],
      "execution_count": null,
      "outputs": []
    },
    {
      "cell_type": "code",
      "metadata": {
        "id": "5tUAcbGimG5R"
      },
      "source": [
        "#Downloading financial data\n",
        "data = quandl.get_table('WIKI/PRICES',\n",
        "                        ticker='AAPL', \n",
        "                        qopts={'columns':['date','close']},\n",
        "                        paginate=True)"
      ],
      "execution_count": null,
      "outputs": []
    },
    {
      "cell_type": "code",
      "metadata": {
        "id": "22jE09zdo_Tq",
        "outputId": "fdd0e0f4-937c-4c6f-b7f3-88a77770cbd8",
        "colab": {
          "base_uri": "https://localhost:8080/",
          "height": 419
        }
      },
      "source": [
        "data.sort_values(by='date',ascending=True).reset_index(drop=True)"
      ],
      "execution_count": null,
      "outputs": [
        {
          "output_type": "execute_result",
          "data": {
            "text/html": [
              "<div>\n",
              "<style scoped>\n",
              "    .dataframe tbody tr th:only-of-type {\n",
              "        vertical-align: middle;\n",
              "    }\n",
              "\n",
              "    .dataframe tbody tr th {\n",
              "        vertical-align: top;\n",
              "    }\n",
              "\n",
              "    .dataframe thead th {\n",
              "        text-align: right;\n",
              "    }\n",
              "</style>\n",
              "<table border=\"1\" class=\"dataframe\">\n",
              "  <thead>\n",
              "    <tr style=\"text-align: right;\">\n",
              "      <th></th>\n",
              "      <th>date</th>\n",
              "      <th>close</th>\n",
              "    </tr>\n",
              "  </thead>\n",
              "  <tbody>\n",
              "    <tr>\n",
              "      <th>0</th>\n",
              "      <td>1980-12-12</td>\n",
              "      <td>28.750</td>\n",
              "    </tr>\n",
              "    <tr>\n",
              "      <th>1</th>\n",
              "      <td>1980-12-15</td>\n",
              "      <td>27.250</td>\n",
              "    </tr>\n",
              "    <tr>\n",
              "      <th>2</th>\n",
              "      <td>1980-12-16</td>\n",
              "      <td>25.250</td>\n",
              "    </tr>\n",
              "    <tr>\n",
              "      <th>3</th>\n",
              "      <td>1980-12-17</td>\n",
              "      <td>25.870</td>\n",
              "    </tr>\n",
              "    <tr>\n",
              "      <th>4</th>\n",
              "      <td>1980-12-18</td>\n",
              "      <td>26.630</td>\n",
              "    </tr>\n",
              "    <tr>\n",
              "      <th>...</th>\n",
              "      <td>...</td>\n",
              "      <td>...</td>\n",
              "    </tr>\n",
              "    <tr>\n",
              "      <th>9395</th>\n",
              "      <td>2018-03-21</td>\n",
              "      <td>171.270</td>\n",
              "    </tr>\n",
              "    <tr>\n",
              "      <th>9396</th>\n",
              "      <td>2018-03-22</td>\n",
              "      <td>168.845</td>\n",
              "    </tr>\n",
              "    <tr>\n",
              "      <th>9397</th>\n",
              "      <td>2018-03-23</td>\n",
              "      <td>164.940</td>\n",
              "    </tr>\n",
              "    <tr>\n",
              "      <th>9398</th>\n",
              "      <td>2018-03-26</td>\n",
              "      <td>172.770</td>\n",
              "    </tr>\n",
              "    <tr>\n",
              "      <th>9399</th>\n",
              "      <td>2018-03-27</td>\n",
              "      <td>168.340</td>\n",
              "    </tr>\n",
              "  </tbody>\n",
              "</table>\n",
              "<p>9400 rows × 2 columns</p>\n",
              "</div>"
            ],
            "text/plain": [
              "           date    close\n",
              "0    1980-12-12   28.750\n",
              "1    1980-12-15   27.250\n",
              "2    1980-12-16   25.250\n",
              "3    1980-12-17   25.870\n",
              "4    1980-12-18   26.630\n",
              "...         ...      ...\n",
              "9395 2018-03-21  171.270\n",
              "9396 2018-03-22  168.845\n",
              "9397 2018-03-23  164.940\n",
              "9398 2018-03-26  172.770\n",
              "9399 2018-03-27  168.340\n",
              "\n",
              "[9400 rows x 2 columns]"
            ]
          },
          "metadata": {
            "tags": []
          },
          "execution_count": 65
        }
      ]
    },
    {
      "cell_type": "code",
      "metadata": {
        "id": "QtLGbVpqmxs4",
        "outputId": "daec764e-826a-469a-c510-3e9543835a12",
        "colab": {
          "base_uri": "https://localhost:8080/",
          "height": 621
        }
      },
      "source": [
        "import matplotlib.pyplot as plt\n",
        "plt.figure(figsize=(14,10))\n",
        "plt.plot(data[\"close\"])\n",
        "plt.title('Apple stock price history')\n",
        "plt.ylabel('Price (USD)')\n",
        "plt.xlabel('Days')\n",
        "plt.legend(['close'], loc='upper right')\n",
        "plt.show()"
      ],
      "execution_count": null,
      "outputs": [
        {
          "output_type": "display_data",
          "data": {
            "image/png": "[encoded data removed]",
            "text/plain": [
              "<Figure size 1008x720 with 1 Axes>"
            ]
          },
          "metadata": {
            "tags": [],
            "needs_background": "light"
          }
        }
      ]
    },
    {
      "cell_type": "code",
      "metadata": {
        "id": "rve8gNRCm_G0",
        "outputId": "a054649b-2764-4118-86d1-588f0884c0ee",
        "colab": {
          "base_uri": "https://localhost:8080/",
          "height": 68
        }
      },
      "source": [
        "data.isna().sum()"
      ],
      "execution_count": null,
      "outputs": [
        {
          "output_type": "execute_result",
          "data": {
            "text/plain": [
              "date     0\n",
              "close    0\n",
              "dtype: int64"
            ]
          },
          "metadata": {
            "tags": []
          },
          "execution_count": 67
        }
      ]
    },
    {
      "cell_type": "code",
      "metadata": {
        "id": "t0_3FUpk1X0p"
      },
      "source": [
        "batch_size = 200\n",
        "epochs = 20\n",
        "timesteps = 40"
      ],
      "execution_count": null,
      "outputs": []
    },
    {
      "cell_type": "code",
      "metadata": {
        "id": "B5hogNpC16pE"
      },
      "source": [
        "def get_train_length(dataset, batch_size, test_percent):\n",
        "    length = len(dataset)\n",
        "    length *= 1 - test_percent\n",
        "    train_length_values = []\n",
        "    for x in range(int(length) - 100,int(length)): \n",
        "        modulo=x%batch_size\n",
        "        if (modulo == 0):\n",
        "            train_length_values.append(x)\n",
        "            print(x)\n",
        "    return (max(train_length_values))"
      ],
      "execution_count": null,
      "outputs": []
    },
    {
      "cell_type": "code",
      "metadata": {
        "id": "Svrx7e9n19-T",
        "outputId": "a903f7c9-2dcd-4f09-ff67-643225a112a7",
        "colab": {
          "base_uri": "https://localhost:8080/",
          "height": 51
        }
      },
      "source": [
        "length = get_train_length(data, batch_size, 0.1)\n",
        "print(length)"
      ],
      "execution_count": null,
      "outputs": [
        {
          "output_type": "stream",
          "text": [
            "8400\n",
            "8400\n"
          ],
          "name": "stdout"
        }
      ]
    },
    {
      "cell_type": "code",
      "metadata": {
        "id": "iEzD22Q42CQb",
        "outputId": "a8734091-ae09-4e35-c9b6-c0e3625061a1",
        "colab": {
          "base_uri": "https://localhost:8080/",
          "height": 34
        }
      },
      "source": [
        "upper_train = length + timesteps*2\n",
        "data_train = data[0:upper_train]\n",
        "training_set = data_train.iloc[:,1:2].values\n",
        "training_set.shape"
      ],
      "execution_count": null,
      "outputs": [
        {
          "output_type": "execute_result",
          "data": {
            "text/plain": [
              "(8480, 1)"
            ]
          },
          "metadata": {
            "tags": []
          },
          "execution_count": 137
        }
      ]
    },
    {
      "cell_type": "code",
      "metadata": {
        "id": "DMjvdUGz2M00",
        "outputId": "657b9d89-3997-4741-9e6a-5072ca68e590",
        "colab": {
          "base_uri": "https://localhost:8080/",
          "height": 34
        }
      },
      "source": [
        "from sklearn.preprocessing import MinMaxScaler\n",
        "sc = MinMaxScaler(feature_range = (0, 1))\n",
        "training_set_scaled = sc.fit_transform(np.float64(training_set))\n",
        "training_set_scaled.shape"
      ],
      "execution_count": null,
      "outputs": [
        {
          "output_type": "execute_result",
          "data": {
            "text/plain": [
              "(8480, 1)"
            ]
          },
          "metadata": {
            "tags": []
          },
          "execution_count": 138
        }
      ]
    },
    {
      "cell_type": "code",
      "metadata": {
        "id": "Oc4L78zx2bUI",
        "outputId": "6074d173-7974-4b49-aa07-1a245425bf63",
        "colab": {
          "base_uri": "https://localhost:8080/",
          "height": 34
        }
      },
      "source": [
        "X_train = []\n",
        "y_train = []\n",
        "\n",
        "# Creating a data structure with n timesteps\n",
        "\n",
        "print(length + timesteps)\n",
        "for i in range(timesteps, length + timesteps): \n",
        "    X_train.append(training_set_scaled[i-timesteps:i,0])\n",
        "    y_train.append(training_set_scaled[i:i+timesteps,0])"
      ],
      "execution_count": null,
      "outputs": [
        {
          "output_type": "stream",
          "text": [
            "8440\n"
          ],
          "name": "stdout"
        }
      ]
    },
    {
      "cell_type": "code",
      "metadata": {
        "id": "FRPIt-0I2dlC",
        "outputId": "fb91f3e0-87d1-4650-b05b-4df40c7bff2e",
        "colab": {
          "base_uri": "https://localhost:8080/",
          "height": 51
        }
      },
      "source": [
        "X_train, y_train = np.array(X_train), np.array(y_train)\n",
        "X_train = np.reshape(X_train, (X_train.shape[0], X_train.shape[1], 1))\n",
        "y_train = np.reshape(y_train, (y_train.shape[0], y_train.shape[1], 1))\n",
        "print(X_train.shape)\n",
        "print(y_train.shape)"
      ],
      "execution_count": null,
      "outputs": [
        {
          "output_type": "stream",
          "text": [
            "(8400, 40, 1)\n",
            "(8400, 40, 1)\n"
          ],
          "name": "stdout"
        }
      ]
    },
    {
      "cell_type": "code",
      "metadata": {
        "id": "SJShRV2L2hX1"
      },
      "source": [
        "from keras.layers import Dense ,Dropout\n",
        "from keras.layers import Input, LSTM\n",
        "from keras.models import Model"
      ],
      "execution_count": null,
      "outputs": []
    },
    {
      "cell_type": "code",
      "metadata": {
        "id": "Rc4NorxV2j3x",
        "outputId": "1fe68d07-3808-4ffa-a609-b894a424572b",
        "colab": {
          "base_uri": "https://localhost:8080/",
          "height": 323
        }
      },
      "source": [
        "# Using Functional API\n",
        "\n",
        "inputs_1_mae = Input(batch_shape=(batch_size,timesteps,1))\n",
        "#each layer is the input of the next layer\n",
        "lstm_1_mae = LSTM(10, stateful=True, return_sequences=True)(inputs_1_mae)\n",
        "dropout_layer = Dropout(0.2)(lstm_1_mae)\n",
        "lstm_2_mae = LSTM(10, stateful=True, return_sequences=True)(dropout_layer)\n",
        "\n",
        "output_1_mae = Dense(units = 1)(lstm_2_mae)\n",
        "\n",
        "regressor_mae = Model(inputs=inputs_1_mae, outputs = output_1_mae)\n",
        "\n",
        "#adam is fast starting off and then gets slower and more precise\n",
        "#mae -> mean absolute error loss function\n",
        "regressor_mae.compile(optimizer='adam', loss = 'mae')\n",
        "regressor_mae.summary()"
      ],
      "execution_count": null,
      "outputs": [
        {
          "output_type": "stream",
          "text": [
            "Model: \"functional_11\"\n",
            "_________________________________________________________________\n",
            "Layer (type)                 Output Shape              Param #   \n",
            "=================================================================\n",
            "input_6 (InputLayer)         [(200, 40, 1)]            0         \n",
            "_________________________________________________________________\n",
            "lstm_10 (LSTM)               (200, 40, 10)             480       \n",
            "_________________________________________________________________\n",
            "dropout_5 (Dropout)          (200, 40, 10)             0         \n",
            "_________________________________________________________________\n",
            "lstm_11 (LSTM)               (200, 40, 10)             840       \n",
            "_________________________________________________________________\n",
            "dense_5 (Dense)              (200, 40, 1)              11        \n",
            "=================================================================\n",
            "Total params: 1,331\n",
            "Trainable params: 1,331\n",
            "Non-trainable params: 0\n",
            "_________________________________________________________________\n"
          ],
          "name": "stdout"
        }
      ]
    },
    {
      "cell_type": "code",
      "metadata": {
        "id": "lahU9jRh2oBx",
        "outputId": "1c926530-cb67-4f4f-b5ea-3964285fe2d2",
        "colab": {
          "base_uri": "https://localhost:8080/",
          "height": 714
        }
      },
      "source": [
        "regressor_mae.fit(X_train, y_train, shuffle=False, epochs = epochs, batch_size = batch_size)"
      ],
      "execution_count": null,
      "outputs": [
        {
          "output_type": "stream",
          "text": [
            "Epoch 1/20\n",
            "42/42 [==============================] - 1s 24ms/step - loss: 0.1292\n",
            "Epoch 2/20\n",
            "42/42 [==============================] - 1s 27ms/step - loss: 0.0963\n",
            "Epoch 3/20\n",
            "42/42 [==============================] - 1s 23ms/step - loss: 0.0618\n",
            "Epoch 4/20\n",
            "42/42 [==============================] - 1s 23ms/step - loss: 0.0358\n",
            "Epoch 5/20\n",
            "42/42 [==============================] - 1s 22ms/step - loss: 0.0369\n",
            "Epoch 6/20\n",
            "42/42 [==============================] - 1s 23ms/step - loss: 0.0319\n",
            "Epoch 7/20\n",
            "42/42 [==============================] - 1s 22ms/step - loss: 0.0342\n",
            "Epoch 8/20\n",
            "42/42 [==============================] - 1s 22ms/step - loss: 0.0321\n",
            "Epoch 9/20\n",
            "42/42 [==============================] - 1s 22ms/step - loss: 0.0323\n",
            "Epoch 10/20\n",
            "42/42 [==============================] - 1s 22ms/step - loss: 0.0317\n",
            "Epoch 11/20\n",
            "42/42 [==============================] - 1s 24ms/step - loss: 0.0315\n",
            "Epoch 12/20\n",
            "42/42 [==============================] - 1s 23ms/step - loss: 0.0315\n",
            "Epoch 13/20\n",
            "42/42 [==============================] - 1s 24ms/step - loss: 0.0311\n",
            "Epoch 14/20\n",
            "42/42 [==============================] - 1s 22ms/step - loss: 0.0312\n",
            "Epoch 15/20\n",
            "42/42 [==============================] - 1s 22ms/step - loss: 0.0311\n",
            "Epoch 16/20\n",
            "42/42 [==============================] - 1s 22ms/step - loss: 0.0306\n",
            "Epoch 17/20\n",
            "42/42 [==============================] - 1s 22ms/step - loss: 0.0308\n",
            "Epoch 18/20\n",
            "42/42 [==============================] - 1s 22ms/step - loss: 0.0304\n",
            "Epoch 19/20\n",
            "42/42 [==============================] - 1s 22ms/step - loss: 0.0306\n",
            "Epoch 20/20\n",
            "42/42 [==============================] - 1s 23ms/step - loss: 0.0300\n"
          ],
          "name": "stdout"
        },
        {
          "output_type": "execute_result",
          "data": {
            "text/plain": [
              "<tensorflow.python.keras.callbacks.History at 0x7fa6635f5d68>"
            ]
          },
          "metadata": {
            "tags": []
          },
          "execution_count": 143
        }
      ]
    },
    {
      "cell_type": "code",
      "metadata": {
        "id": "znwk3mGP23Rc"
      },
      "source": [
        "def get_test_length(dataset, batch_size):\n",
        "    \n",
        "    test_length_values = []\n",
        "    for x in range(len(dataset) - 200, len(dataset) - timesteps*2): \n",
        "        modulo=(x-upper_train)%batch_size\n",
        "        if (modulo == 0):\n",
        "            test_length_values.append(x)\n",
        "            print(x)\n",
        "    return (max(test_length_values))"
      ],
      "execution_count": null,
      "outputs": []
    },
    {
      "cell_type": "code",
      "metadata": {
        "id": "c8mdKjkg3nmG",
        "outputId": "b12da3c5-22a2-4859-a57b-c84a1ab8a136",
        "colab": {
          "base_uri": "https://localhost:8080/",
          "height": 68
        }
      },
      "source": [
        "test_length = get_test_length(data, batch_size)\n",
        "print(test_length)\n",
        "upper_test = test_length + timesteps*2\n",
        "testset_length = test_length - upper_train\n",
        "print(testset_length)"
      ],
      "execution_count": null,
      "outputs": [
        {
          "output_type": "stream",
          "text": [
            "9280\n",
            "9280\n",
            "800\n"
          ],
          "name": "stdout"
        }
      ]
    },
    {
      "cell_type": "code",
      "metadata": {
        "id": "JoKAw7WE3p8m"
      },
      "source": [
        "#subsetting\n",
        "df_data_1_test = data[upper_train:upper_test] \n",
        "test_set = df_data_1_test.iloc[:,1:2].values\n",
        "\n",
        "#scaling\n",
        "scaled_real_bcg_values_test = sc.fit_transform(np.float64(test_set))\n",
        "\n",
        "X_test = []\n",
        "for i in range(timesteps, testset_length + timesteps):\n",
        "    X_test.append(scaled_real_bcg_values_test[i-timesteps:i, 0])\n",
        "X_test = np.array(X_test)\n",
        "\n",
        "\n",
        "#reshaping\n",
        "X_test = np.reshape(X_test, (X_test.shape[0], X_test.shape[1], 1))"
      ],
      "execution_count": null,
      "outputs": []
    },
    {
      "cell_type": "code",
      "metadata": {
        "id": "pdk_1Ihl3uhN",
        "outputId": "a1e367d6-4c82-4841-9b6f-df513d6ddf09",
        "colab": {
          "base_uri": "https://localhost:8080/",
          "height": 34
        }
      },
      "source": [
        "X_test.shape"
      ],
      "execution_count": null,
      "outputs": [
        {
          "output_type": "execute_result",
          "data": {
            "text/plain": [
              "(800, 40, 1)"
            ]
          },
          "metadata": {
            "tags": []
          },
          "execution_count": 147
        }
      ]
    },
    {
      "cell_type": "code",
      "metadata": {
        "id": "0Cm4JThZ3wmq",
        "outputId": "51d290d6-d937-4e8f-e204-646a5c602c9d",
        "colab": {
          "base_uri": "https://localhost:8080/",
          "height": 68
        }
      },
      "source": [
        "predicted_bcg_values_test_mae = regressor_mae.predict(X_test, batch_size=batch_size)\n",
        "regressor_mae.reset_states()\n",
        "\n",
        "print(predicted_bcg_values_test_mae.shape)\n",
        "\n",
        "#reshaping\n",
        "predicted_bcg_values_test_mae = np.reshape(predicted_bcg_values_test_mae, \n",
        "                                       (predicted_bcg_values_test_mae.shape[0], \n",
        "                                        predicted_bcg_values_test_mae.shape[1]))\n",
        "\n",
        "print(predicted_bcg_values_test_mae.shape)\n",
        "#inverse transform\n",
        "predicted_bcg_values_test_mae = sc.inverse_transform(predicted_bcg_values_test_mae)\n",
        "\n",
        "\n",
        "#creating y_test data\n",
        "y_test = []\n",
        "for j in range(0, testset_length - timesteps):\n",
        "    y_test = np.append(y_test, predicted_bcg_values_test_mae[j, timesteps-1])\n",
        "\n",
        "# reshaping\n",
        "y_test = np.reshape(y_test, (y_test.shape[0], 1))\n",
        "\n",
        "print(y_test.shape)"
      ],
      "execution_count": null,
      "outputs": [
        {
          "output_type": "stream",
          "text": [
            "(800, 40, 1)\n",
            "(800, 40)\n",
            "(760, 1)\n"
          ],
          "name": "stdout"
        }
      ]
    },
    {
      "cell_type": "code",
      "metadata": {
        "id": "JgGlsrKc3zed",
        "outputId": "8eb3c13d-4ec6-492f-e58c-1cbf15a12e1d",
        "colab": {
          "base_uri": "https://localhost:8080/",
          "height": 295
        }
      },
      "source": [
        "plt.plot(test_set[timesteps:len(y_test)+timesteps].astype(float), color = 'red', label = 'Real Apple Stock Prices')\n",
        "plt.plot(y_test.astype(float), color = 'blue', label = 'Predicted Apple Stock Prices')\n",
        "plt.title('Apple Stock Price Prediction - MAE')\n",
        "plt.xlabel('Time')\n",
        "plt.ylabel('Apple Stock Prices')\n",
        "plt.legend()\n",
        "plt.show()"
      ],
      "execution_count": null,
      "outputs": [
        {
          "output_type": "display_data",
          "data": {
            "image/png": "[encoded data removed]",
            "text/plain": [
              "<Figure size 432x288 with 1 Axes>"
            ]
          },
          "metadata": {
            "tags": [],
            "needs_background": "light"
          }
        }
      ]
    },
    {
      "cell_type": "code",
      "metadata": {
        "id": "Gx7DUbbp4NmJ"
      },
      "source": [
        ""
      ],
      "execution_count": null,
      "outputs": []
    }
  ]
}